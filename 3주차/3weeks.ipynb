{
 "cells": [
  {
   "cell_type": "markdown",
   "metadata": {},
   "source": [
    "## <strong>다른 경로의 파일</strong>\n",
    "다른 경로의 파일을 import하려면 <b>sys.path.append</b>에 다른 경로의 path를 넣어주면 된다."
   ]
  },
  {
   "cell_type": "code",
   "execution_count": null,
   "metadata": {},
   "outputs": [],
   "source": [
    "import sys\n",
    "sys.path.append('D:\\\\Python\\\\pythonbreaker\\\\2주차')\n",
    "import weeks2_module"
   ]
  },
  {
   "cell_type": "markdown",
   "metadata": {},
   "source": [
    "&nbsp;\n",
    "## <strong>로또 번호 생성기 함수</strong>\n",
    "\n",
    "- ### 설명\n",
    "\n",
    " \n",
    "> 0~45개의 sample 중 6개를 random sampling 후 정렬\n",
    "\n",
    "&nbsp;\n",
    "- ### 코드\n",
    "<pre>\n",
    "def lotto():\n",
    "    lotto_v = random.sample(range(0, 46), 6) # 0~45 randomsampling\n",
    "    lotto_v = sorted(lotto_v, reverse=False) # 정렬\n",
    "\n",
    "    print('output: ', lotto_v, sep='')\n",
    "<code>"
   ]
  },
  {
   "cell_type": "code",
   "execution_count": 9,
   "metadata": {},
   "outputs": [
    {
     "name": "stdout",
     "output_type": "stream",
     "text": [
      "output: [11, 12, 14, 21, 41, 45]\n"
     ]
    }
   ],
   "source": [
    "weeks2_module.lotto()"
   ]
  },
  {
   "cell_type": "markdown",
   "metadata": {},
   "source": [
    "&nbsp;\n",
    "&nbsp;\n",
    "## <strong>계산기 함수</strong>\n",
    "\n",
    "- ### 설명\n",
    "\n",
    "> 간단한 계산기를 만들었고 예외처리를 중점으로 코드가 구성됨\n",
    "\n",
    "&nbsp;\n",
    "- ### 코드\n",
    "<pre>\n",
    "def cal():\n",
    "    while 1:\n",
    "        try:\n",
    "            a = int(input())  # 숫자1 입력부\n",
    "            b = input()  # 연산자 입력부\n",
    "            c = int(input())  # 숫자2 입력부\n",
    "            if b == \"+\":\n",
    "                print(a, \"+\", c, \"=\", a + c)\n",
    "            elif b == \"-\":\n",
    "                print(a, \"-\", c, \"=\", a - c)\n",
    "            elif b == \"*\":\n",
    "                print(a, \"*\", c, \"=\", a * c)\n",
    "            elif b == \"/\":\n",
    "                print(a, \"*\", c, \"=\", a / c)\n",
    "            else:\n",
    "                print('연산자를 재확인해주세요\\n처음부터 다시입력해주세요\\n')  # 문자열 예외처리\n",
    "                continue\n",
    "\n",
    "        # 예외처리\n",
    "        except ZeroDivisionError as e:\n",
    "            print(e)\n",
    "        except ValueError as f:\n",
    "            print(f)  \n",
    "<code>\n",
    "<pre>\n",
    "if __name__ == \"__main__\":\n",
    "    cal()  \n",
    "<code>"
   ]
  },
  {
   "cell_type": "markdown",
   "metadata": {},
   "source": [
    "## <pre>if __name__ == '__main__':<code> \n",
    "- ### 설명\n",
    "       * main함수는 모듈을 불러올 때 main함수 안에있는 코드를 실행하지 않는다는 것을 의미\n",
    "\n",
    "       * main함수 안에있는 코드를 실행하고 싶은 경우 main함수가 들어있는 파일을 실행해야한다.\n"
   ]
  },
  {
   "cell_type": "code",
   "execution_count": 4,
   "metadata": {},
   "outputs": [
    {
     "name": "stdin",
     "output_type": "stream",
     "text": [
      " 1\n",
      " +\n",
      " 1\n"
     ]
    },
    {
     "name": "stdout",
     "output_type": "stream",
     "text": [
      "1 + 1 = 2\n"
     ]
    },
    {
     "name": "stdin",
     "output_type": "stream",
     "text": [
      " 0\n"
     ]
    },
    {
     "name": "stdout",
     "output_type": "stream",
     "text": [
      "계산기가 종료되었습니다.\n"
     ]
    }
   ],
   "source": [
    "weeks2_module.cal() "
   ]
  },
  {
   "cell_type": "markdown",
   "metadata": {},
   "source": [
    "&nbsp;\n",
    "\n",
    "## <strong>문자열분석 함수</strong>\n",
    "\n",
    "- ### 설명\n",
    "\n",
    " \n",
    "> 문자의 개수, 가장 큰 문자열, 뒤집은 문자열을 출력한다.\n",
    "\n",
    "&nbsp;\n",
    "- ### 코드\n",
    "<pre>\n",
    "def str_analysis(string):\n",
    "    inp = string\n",
    "    inp_length = len(inp)\n",
    "    descending = sorted(inp, reverse=True)   # 문자의 내림차순 정렬\n",
    "    big_str = descending[0] # 정렬 후 가장 큰 변수\n",
    "    rev = inp[::-1] # 전체 데이터를 역순으로 가져오기\n",
    "\n",
    "    # 출력\n",
    "    print('문자의 개수: ', inp_length, sep='')\n",
    "    print('가장 큰 문자열: ', big_str, sep='')\n",
    "    print('뒤집은 문자열: ', rev, sep='')\n",
    "<code>"
   ]
  },
  {
   "cell_type": "code",
   "execution_count": 6,
   "metadata": {},
   "outputs": [
    {
     "name": "stdout",
     "output_type": "stream",
     "text": [
      "문자의 개수: 6\n",
      "가장 큰 문자열: y\n",
      "뒤집은 문자열: nohtyp\n"
     ]
    }
   ],
   "source": [
    "weeks2_module.str_analysis('python')"
   ]
  },
  {
   "cell_type": "markdown",
   "metadata": {},
   "source": [
    "&nbsp;\n",
    "## <strong>현재시간과 미래시간을 출력하는 함수</strong>\n",
    "- ### 설명\n",
    "\n",
    " \n",
    "> datetime라이브러리를 이용한 현재시간 출력 및 미래시간 출력\n",
    "\n",
    "&nbsp;\n",
    "- ### 코드\n",
    "<pre>\n",
    "def time(days=0, hours=0, minutes=0, seconds=0):\n",
    "    now = datetime.datetime.now()  # 현재 시간\n",
    "    future = datetime.timedelta(days=days, hours=hours, minutes=minutes, seconds=seconds)\n",
    "    result = now + future  # 미래 시간\n",
    "\n",
    "    print('현재: ', now.year, '년 ', now.month, '월 ', now.day, '일 ', now.hour, '시 ', now.minute, '분 ', now.second, '초',\n",
    "          sep='')\n",
    "    print('미래: ', result.year, '년 ', result.month, '월 ', result.day, '일 ', result.hour, '시 ', result.minute, '분 ',\n",
    "          result.second, '초', sep='')\n",
    "\n",
    "<code>"
   ]
  },
  {
   "cell_type": "code",
   "execution_count": 7,
   "metadata": {},
   "outputs": [
    {
     "name": "stdout",
     "output_type": "stream",
     "text": [
      "현재: 2020년 9월 19일 17시 0분 2초\n",
      "미래: 2020년 11월 7일 18시 8분 9초\n"
     ]
    }
   ],
   "source": [
    "weeks2_module.time(days=49, hours=1, minutes=8, seconds=7)  # 49일 1시간 8분 7초"
   ]
  },
  {
   "cell_type": "markdown",
   "metadata": {},
   "source": [
    "&nbsp;\n",
    "## <strong>영한사전 프로그램</strong>\n",
    "- ### 설명\n",
    "\n",
    " \n",
    "> dictionary를 이용한 영한사전\n",
    "\n",
    "&nbsp;\n",
    "- ### 코드\n",
    "<pre>\n",
    "# 문자는 컴퓨터가 항상 인식을 하기 때문에 try except를 사용하지 않고 조건문을 이용해서 예외처리를 했음\n",
    "def word(): # 단어\n",
    "    words = {'apple': '사과', 'banana': '바나나', 'camel': '낙타'}\n",
    "\n",
    "    return(words)\n",
    "\n",
    "def dictionary(): # 사전\n",
    "\n",
    "    words = word()\n",
    "    words = dict(words)\n",
    "\n",
    "    input_words = input('영어로검색\\n한글로검색\\n전체출력\\n\\n') # 첫 단어 입력\n",
    "    input_words = input_words.strip() # 한글로 입력할시 공백 떄문에 오류가 자주 떠서 공백 제거\n",
    "\n",
    "    # 영한사전\n",
    "    if input_words == '영어로검색':\n",
    "        input_words = input('단어를 입력하세요: ')\n",
    "        input_words = input_words.strip()\n",
    "\n",
    "        if input_words not in words.keys():\n",
    "            print('-삐빅-') # 예외처리\n",
    "\n",
    "        for key, value in words.items():\n",
    "            if key == input_words: # 영한사전\n",
    "                print(key, ': ', value, sep='')\n",
    "\n",
    "    # 한영사전\n",
    "    elif input_words == '한글로검색':\n",
    "        input_words = input('단어를 입력하세요: ')\n",
    "        input_words = input_words.strip()\n",
    "\n",
    "        if input_words not in words.values():\n",
    "            print('-삐빅-') # 예외처리\n",
    "\n",
    "        for key, value in words.items():\n",
    "            if value == input_words: # 한영사전\n",
    "                print(value, ': ', key, sep='')\n",
    "\n",
    "    # 전체 출력\n",
    "    elif input_words == '전체출력':\n",
    "        for key, value in words.items(): # word의 있는 key, value값을 하나씩 출력\n",
    "            print(key, ': ', value, sep='')\n",
    "\n",
    "    else:\n",
    "        print('-삐빅-') # 예외처리\n",
    "<code>"
   ]
  },
  {
   "cell_type": "code",
   "execution_count": 8,
   "metadata": {},
   "outputs": [
    {
     "name": "stdin",
     "output_type": "stream",
     "text": [
      "영어로검색\n",
      "한글로검색\n",
      "전체출력\n",
      "\n",
      " 영어로검색\n",
      "단어를 입력하세요:  apple\n"
     ]
    },
    {
     "name": "stdout",
     "output_type": "stream",
     "text": [
      "apple: 사과\n"
     ]
    }
   ],
   "source": [
    "weeks2_module.dictionary()"
   ]
  }
 ],
 "metadata": {
  "kernelspec": {
   "display_name": "Python 3",
   "language": "python",
   "name": "python3"
  },
  "language_info": {
   "codemirror_mode": {
    "name": "ipython",
    "version": 3
   },
   "file_extension": ".py",
   "mimetype": "text/x-python",
   "name": "python",
   "nbconvert_exporter": "python",
   "pygments_lexer": "ipython3",
   "version": "3.7.6"
  }
 },
 "nbformat": 4,
 "nbformat_minor": 4
}
